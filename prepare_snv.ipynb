{
 "cells": [
  {
   "cell_type": "code",
   "execution_count": null,
   "metadata": {
    "collapsed": true
   },
   "outputs": [],
   "source": [
    "import csv\n",
    "import pickle\n",
    "import os\n",
    "import re\n",
    "import functools\n",
    "import collections\n",
    "import sys\n",
    "if os.path.exists('C:/Users/Tianle/Documents/cs231n/spring1617/my-scripts'):\n",
    "    sys.path.append('C:/Users/Tianle/Documents/cs231n/spring1617/my-scripts')\n",
    "    root = 'C:/Users/Tianle/Documents/cs231n/spring1617/my-scripts/'\n",
    "if os.path.exists('/projects/academic/azhang/tianlema/deeplearning'):\n",
    "    sys.path.append('/projects/academic/azhang/tianlema/deeplearning')\n",
    "    root = '/projects/academic/azhang/tianlema/deeplearning/'\n",
    "sys.path.append('/projects/academic/azhang/tianlema/deeplearning/site-packages/')    \n",
    "import numpy as np\n",
    "import matplotlib.pyplot as plt\n",
    "\n",
    "from dl.utils.gen_conv_params import *\n",
    "\n",
    "%load_ext autoreload\n",
    "%autoreload 2"
   ]
  },
  {
   "cell_type": "markdown",
   "metadata": {},
   "source": [
    "# Read clinical data"
   ]
  },
  {
   "cell_type": "code",
   "execution_count": null,
   "metadata": {
    "collapsed": true,
    "scrolled": true
   },
   "outputs": [],
   "source": [
    "file='../notebooks/globalClinTraining.csv'\n",
    "clinical = []\n",
    "with open(file) as csvfile:\n",
    "    reader = csv.reader(csvfile)\n",
    "    for row in reader:\n",
    "        clinical.append(row)\n",
    "# The first row is feature names\n",
    "var_names = clinical[0]\n",
    "# Map feature name to idx\n",
    "var_names = {name: i for i, name in enumerate(var_names)}\n",
    "del clinical[0]"
   ]
  },
  {
   "cell_type": "code",
   "execution_count": null,
   "metadata": {
    "scrolled": false
   },
   "outputs": [],
   "source": [
    "# Patient ID are unique\n",
    "assert len([v[1] for v in clinical]) == len(set([v[1] for v in clinical]))\n",
    "\n",
    "# SamplId are unique if not 'NA'\n",
    "# This allows using (filename, sampleID) or just sampleID to find patientID\n",
    "for name in [v for v in var_names if re.search('SamplId', v)]:\n",
    "    sids = [v[var_names[name]] for v in clinical\n",
    "            if v[var_names[name]] != 'NA']\n",
    "    print(name, len(sids))\n",
    "    assert len(sids) == len(set(sids))\n",
    "\n",
    "# Find expression files in two folders: MA and RNA-seq\n",
    "expfiles = [(root, files) for root, subdir, files in os.walk('Expression Data/') if len(files) > 0]\n",
    "# Select files with entrezID\n",
    "expfilepaths = [[os.path.join(root, f) for f in files if re.search('entrezID', f)] \n",
    "                for root, files in expfiles]\n",
    "# Save filenames\n",
    "expfilenames = [[f for f in files if re.search('entrezID', f)] for root, files in expfiles]"
   ]
  },
  {
   "cell_type": "code",
   "execution_count": null,
   "metadata": {
    "collapsed": true
   },
   "outputs": [],
   "source": [
    "import vcf\n",
    "def get_mutation_info(filename):\n",
    "    reader = vcf.Reader(filename=filename)\n",
    "    pos = []\n",
    "    ann = []\n",
    "    for r in reader:\n",
    "        info = r.INFO['ANN'][0].split('|')\n",
    "        pos.append({'CHROM': r.CHROM, 'POS': r.POS, 'REF': r.REF, 'ALT': info[0]})\n",
    "        ann.append(info)\n",
    "    return pos, ann"
   ]
  },
  {
   "cell_type": "code",
   "execution_count": null,
   "metadata": {
    "collapsed": true
   },
   "outputs": [],
   "source": [
    "path = ('/projects/academic/jamesjar/tianlema/dl-datasets/mm-dream/data/Genomic Data/'\n",
    "        'MMRF IA9 CelgeneProcessed/filtered Strelka SnpSift Annotated vcfs/snvs/')\n",
    "snv_files = [(i, path+v[var_names['WES_mutationFileStrelkaSNV']]) for i, v in enumerate(clinical)\n",
    "             if v[var_names['WES_mutationFileStrelkaSNV']] != 'NA']"
   ]
  },
  {
   "cell_type": "code",
   "execution_count": null,
   "metadata": {},
   "outputs": [],
   "source": [
    "snv = []\n",
    "clinical_snv = []\n",
    "for i, filename in snv_files:\n",
    "    try:\n",
    "        snv.append(get_mutation_info(filename))\n",
    "        clinical_snv.append(clinical[i])\n",
    "    except ValueError:\n",
    "        print(i, filename)"
   ]
  },
  {
   "cell_type": "code",
   "execution_count": null,
   "metadata": {
    "collapsed": true
   },
   "outputs": [],
   "source": [
    "with open('snv.pkl', 'wb') as f:\n",
    "    pickle.dump({'snv': snv, 'clinical': clinical_snv}, f)"
   ]
  },
  {
   "cell_type": "markdown",
   "metadata": {},
   "source": [
    "# Select a subset of mutations"
   ]
  },
  {
   "cell_type": "code",
   "execution_count": null,
   "metadata": {
    "collapsed": true
   },
   "outputs": [],
   "source": [
    "with open('snv.pkl', 'rb') as f:\n",
    "    data = pickle.load(f)\n",
    "\n",
    "snv = data['snv']\n",
    "clinical = data['clinical']\n",
    "\n",
    "genes = [set([v[3] for v in r[1]]) for r in snv]\n",
    "genes = functools.reduce(lambda a, b: a.union(b), genes)\n",
    "\n",
    "# # Use biomart to convert gene symbols to entrezIds # use Bioconductor\n",
    "# with open('genesymbols.csv', 'w') as f:\n",
    "#     for g in genes:\n",
    "#         f.write(g+'\\n')\n",
    "sym2entrez = []\n",
    "with open('../processed_data/sym2entrez.csv', 'r') as f:\n",
    "    reader = csv.reader(f)\n",
    "    for r in reader:\n",
    "        sym2entrez.append(r)\n",
    "sym_to_entrez = collections.defaultdict(list)\n",
    "for k, v in sym2entrez:\n",
    "    sym_to_entrez[k].append(v)"
   ]
  },
  {
   "cell_type": "code",
   "execution_count": null,
   "metadata": {
    "collapsed": true
   },
   "outputs": [],
   "source": [
    "mutations = [{(s[3], s[1], s[2]) for s in v[1]} for v in snv]\n",
    "mut_occ = collections.defaultdict(list)\n",
    "for i, m in enumerate(mutations):\n",
    "    for k in m:\n",
    "        mut_occ[k].append(i)\n",
    "# plt.hist([len(v) for k, v in mut_occ.items()], bins=[s for s in range(0, 100, 10)]+[1000])\n",
    "\n",
    "# select genes that has a mapped entrez ID (this may not be necessary)\n",
    "# and are mutated in at least 5% of the samples or impact is 'HIGH'\n",
    "tmp = collections.defaultdict(set)\n",
    "for k,v in mut_occ.items():\n",
    "    tmp[k[0]].update(v)\n",
    "mut_occ = {k:v for k, v in mut_occ.items() if len(tmp[k[0]])>36 or k[2]=='HIGH'}\n",
    "mut_occ = {k:v for k, v in mut_occ.items() if k[0] in sym_to_entrez}"
   ]
  },
  {
   "cell_type": "code",
   "execution_count": null,
   "metadata": {
    "collapsed": true
   },
   "outputs": [],
   "source": [
    "# order mutations by their positions for possible future use\n",
    "mut_pos = collections.defaultdict(set)\n",
    "for r in snv:\n",
    "    for s, t in zip(r[0], r[1]):\n",
    "        mut_pos[(t[3], t[1], t[2])].add('{0}.{1}'.format(s['CHROM'], s['POS']))\n",
    "tmp = {k: sorted(v)[0] for k, v in mut_pos.items() if k in mut_occ}\n",
    "pos = {v:i for i, v in enumerate(sorted(tmp.values()))}\n",
    "mut_ids = {k: pos[v] for k, v in tmp.items()}"
   ]
  },
  {
   "cell_type": "code",
   "execution_count": null,
   "metadata": {
    "collapsed": true
   },
   "outputs": [],
   "source": [
    "with open('snv.pkl', 'rb') as f:\n",
    "    data = pickle.load(f)\n",
    "    \n",
    "\n",
    "data['mut_ids'] = mut_ids\n",
    "with open('snv-input.pkl', 'wb') as f:\n",
    "    pickle.dump(data, f)"
   ]
  },
  {
   "cell_type": "code",
   "execution_count": null,
   "metadata": {
    "collapsed": true
   },
   "outputs": [],
   "source": [
    "# with open('snv-input.pkl', 'wb') as f:\n",
    "#     data_snv = pickle.load(f)\n",
    "\n",
    "# mut_ids = data_snv['mut_ids']\n",
    "# cli_idx = {(v[0], v[1]):i for i,v in enumerate(clinical)}\n",
    "\n",
    "# snv_mat = np.zeros((len(snv),len(mut_ids)))\n",
    "\n",
    "# for i, m in enumerate(mutations):\n",
    "#     idx = [v for k, v in mut_ids.items() if k in m]\n",
    "#     snv_mat[i, idx] = 1\n",
    "\n",
    "# np.sum(snv_mat)"
   ]
  }
 ],
 "metadata": {
  "kernelspec": {
   "display_name": "Python 3",
   "language": "python",
   "name": "python3"
  },
  "language_info": {
   "codemirror_mode": {
    "name": "ipython",
    "version": 3
   },
   "file_extension": ".py",
   "mimetype": "text/x-python",
   "name": "python",
   "nbconvert_exporter": "python",
   "pygments_lexer": "ipython3",
   "version": "3.6.1"
  }
 },
 "nbformat": 4,
 "nbformat_minor": 2
}
