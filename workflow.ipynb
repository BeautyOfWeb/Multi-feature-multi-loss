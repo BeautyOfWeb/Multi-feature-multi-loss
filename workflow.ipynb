{
 "cells": [
  {
   "cell_type": "code",
   "execution_count": 1,
   "metadata": {
    "collapsed": true
   },
   "outputs": [],
   "source": [
    "import subprocess\n",
    "import pathlib\n",
    "import os\n",
    "import math"
   ]
  },
  {
   "cell_type": "code",
   "execution_count": 2,
   "metadata": {
    "collapsed": true
   },
   "outputs": [],
   "source": [
    "def make_file(exp_type, train, kernel_size, threshold, balance, model_name, \n",
    "              script_file, input_suffix='model-input', weight_decay=1e-4, \n",
    "              alpha=0.5, norm_type=0, seed=1, input_filename='exp-train'):\n",
    "    assert balance in ['unbal', 'bal']\n",
    "    use_all_data = True if balance == 'unbal' else False\n",
    "    assert model_name in ['fb', 'dense', 'Linear1', 'Linear2', 'Conv1', 'Conv2']\n",
    "    if model_name=='dense':\n",
    "        model_name = 'DenseFactorBlock' \n",
    "    elif model_name=='fb':\n",
    "        model_name = 'FactorBlock'\n",
    "    command = ('sed \"s|EXP_TYPE=\\'rnaseq\\'|EXP_TYPE=\\'{0}\\'|; '\n",
    "               's/TRAIN=1/TRAIN={1}/; '\n",
    "               's/KERNEL_SIZE=10/KERNEL_SIZE={2}/; '\n",
    "               's/THRESHOLD=10/THRESHOLD={3}/; '\n",
    "               's/USE_ALL_DATA=True/USE_ALL_DATA={4}/; '\n",
    "               's/MODEL=Linear1/MODEL={5}/; '\n",
    "               's|INPUT_SUFFIX=\\'3rand\\'|INPUT_SUFFIX=\\'{6}\\'|; '\n",
    "               's/ALPHA=0.5/ALPHA={7}/; '\n",
    "               's/NORM_TYPE=0/NORM_TYPE={8}/; '\n",
    "               's/SEED=1/SEED={9}/; '\n",
    "               's|WEIGHT_DECAY=1e-3|WEIGHT_DECAY={10}|\" '\n",
    "               '{11}.ipynb '\n",
    "               '> {12}'.format(\n",
    "                   exp_type, train, kernel_size, threshold, use_all_data, \n",
    "                   model_name, input_suffix, alpha, norm_type, seed, \n",
    "                   weight_decay, input_filename, script_file))\n",
    "    subprocess.run(command, shell=True)\n",
    "    \n",
    "def submit_job(exp_type, train, kernel_size, threshold, balance, model_name, which_loss, \n",
    "               input_suffix, weight_decay=1e-4, alpha=0.5, norm_type=0, seed=1, \n",
    "               input_filename='exp-train', file_prefix='', verbose=True):\n",
    "    script_path = 'notebooks/'\n",
    "    ckp_path = 'checkpoints/'\n",
    "    [pathlib.Path(folder).mkdir(parents=True, exist_ok=True) for folder in [script_path, ckp_path]]\n",
    "    script_file_prefix = (file_prefix + '{0}_{1}_seed{2}_norm{3}-{4}-train{5}-alpha{6}-reg{7}'\n",
    "                          .format(exp_type, input_suffix, seed, norm_type, model_name, train, \n",
    "                                  alpha, math.log10(weight_decay)))\n",
    "    script_file = '{0}{1}.ipynb'.format(script_path, script_file_prefix)\n",
    "    if not os.path.exists(script_file):\n",
    "        make_file(exp_type, train, kernel_size, threshold, balance, model_name, \n",
    "                  script_file, input_suffix, weight_decay, alpha, norm_type, seed, input_filename)\n",
    "        # Buggy: nbconvert will save notebook in the same path as the input file\n",
    "        command = 'sbatch debug-slurm {0} {1}.ipynb'.format(script_file, script_file_prefix)\n",
    "        subprocess.run(command, shell=True)\n",
    "        if verbose:\n",
    "            print('submitted job: {0}'.format(script_file))"
   ]
  },
  {
   "cell_type": "code",
   "execution_count": null,
   "metadata": {
    "collapsed": true
   },
   "outputs": [],
   "source": [
    "WHICH_LOSS = 'ce'\n",
    "model_names = ['Linear1']\n",
    "balances = ['unbal']\n",
    "EXP_TYPES = ['rnaseq']\n",
    "TRAINS = [0]\n",
    "KERNEL_SIZES = [10]\n",
    "THRESHOLDS = [10000]\n",
    "INPUT_SUFFIXS = ['2rand2']\n",
    "WEIGHT_DECAYS = [1e-3]\n",
    "alphas = [0.5]\n",
    "norm_types = [0]\n",
    "seeds = [1,2,3,4]\n",
    "for model_name in model_names:\n",
    "    for balance in balances:\n",
    "        for EXP_TYPE in EXP_TYPES:\n",
    "            for TRAIN in TRAINS:\n",
    "                for KERNEL_SIZE in KERNEL_SIZES:\n",
    "                    for THRESHOLD in THRESHOLDS:\n",
    "                        for INPUT_SUFFIX in INPUT_SUFFIXS:\n",
    "                            for WEIGHT_DECAY in WEIGHT_DECAYS:\n",
    "                                for alpha in alphas:\n",
    "                                    for norm_type in norm_types:\n",
    "                                        for seed in seeds:\n",
    "                                            submit_job(EXP_TYPE, TRAIN, KERNEL_SIZE, THRESHOLD,\n",
    "                                                       balance, model_name, WHICH_LOSS, \n",
    "                                                       INPUT_SUFFIX, WEIGHT_DECAY, alpha, \n",
    "                                                       norm_type, seed)"
   ]
  },
  {
   "cell_type": "code",
   "execution_count": 12,
   "metadata": {},
   "outputs": [
    {
     "name": "stdout",
     "output_type": "stream",
     "text": [
      "submitted job: notebooks/snv_rnaseq_2rand2_seed5_norm0-Linear1-train0-alpha0.5-reg-2.0.ipynb\n",
      "submitted job: notebooks/snv_rnaseq_2rand2_seed6_norm0-Linear1-train0-alpha0.5-reg-2.0.ipynb\n",
      "submitted job: notebooks/snv_rnaseq_2rand2_seed7_norm0-Linear1-train0-alpha0.5-reg-2.0.ipynb\n",
      "submitted job: notebooks/snv_rnaseq_2rand2_seed8_norm0-Linear1-train0-alpha0.5-reg-2.0.ipynb\n"
     ]
    }
   ],
   "source": [
    "WHICH_LOSS = 'ce'\n",
    "model_names = ['Linear1']\n",
    "balances = ['unbal']\n",
    "EXP_TYPES = ['rnaseq']\n",
    "TRAINS = [0]\n",
    "KERNEL_SIZES = [10]\n",
    "THRESHOLDS = [10000]\n",
    "INPUT_SUFFIXS = ['2rand2']\n",
    "WEIGHT_DECAYS = [1e-2]\n",
    "alphas = [0.5]\n",
    "norm_types = [0]\n",
    "seeds = [1, 2, 3, 4, 5, 6, 7, 8]\n",
    "for model_name in model_names:\n",
    "    for balance in balances:\n",
    "        for EXP_TYPE in EXP_TYPES:\n",
    "            for TRAIN in TRAINS:\n",
    "                for KERNEL_SIZE in KERNEL_SIZES:\n",
    "                    for THRESHOLD in THRESHOLDS:\n",
    "                        for INPUT_SUFFIX in INPUT_SUFFIXS:\n",
    "                            for WEIGHT_DECAY in WEIGHT_DECAYS:\n",
    "                                for alpha in alphas:\n",
    "                                    for norm_type in norm_types:\n",
    "                                        for seed in seeds:\n",
    "                                            submit_job(EXP_TYPE, TRAIN, KERNEL_SIZE, THRESHOLD,\n",
    "                                                       balance, model_name, WHICH_LOSS, \n",
    "                                                       INPUT_SUFFIX, WEIGHT_DECAY, alpha, \n",
    "                                                       norm_type, seed, \n",
    "                                                       input_filename='snv-exp-train', \n",
    "                                                       file_prefix='snv_')"
   ]
  }
 ],
 "metadata": {
  "kernelspec": {
   "display_name": "Python 3",
   "language": "python",
   "name": "python3"
  },
  "language_info": {
   "codemirror_mode": {
    "name": "ipython",
    "version": 3
   },
   "file_extension": ".py",
   "mimetype": "text/x-python",
   "name": "python",
   "nbconvert_exporter": "python",
   "pygments_lexer": "ipython3",
   "version": "3.6.1"
  }
 },
 "nbformat": 4,
 "nbformat_minor": 2
}
